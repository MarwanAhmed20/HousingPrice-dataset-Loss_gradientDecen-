{
 "cells": [
  {
   "cell_type": "code",
   "execution_count": 62,
   "metadata": {
    "scrolled": true
   },
   "outputs": [],
   "source": [
    "import pandas as pd\n",
    "import numpy as np\n",
    "import matplotlib.pyplot as plt\n",
    "from sklearn.model_selection import train_test_split\n",
    "from sklearn.preprocessing import StandardScaler"
   ]
  },
  {
   "cell_type": "markdown",
   "metadata": {},
   "source": [
    "# load data and preprossing"
   ]
  },
  {
   "cell_type": "code",
   "execution_count": 63,
   "metadata": {
    "scrolled": true
   },
   "outputs": [],
   "source": [
    "df = pd.read_csv(\"USA_Housing.csv\")"
   ]
  },
  {
   "cell_type": "code",
   "execution_count": 64,
   "metadata": {},
   "outputs": [
    {
     "data": {
      "text/html": [
       "<div>\n",
       "<style scoped>\n",
       "    .dataframe tbody tr th:only-of-type {\n",
       "        vertical-align: middle;\n",
       "    }\n",
       "\n",
       "    .dataframe tbody tr th {\n",
       "        vertical-align: top;\n",
       "    }\n",
       "\n",
       "    .dataframe thead th {\n",
       "        text-align: right;\n",
       "    }\n",
       "</style>\n",
       "<table border=\"1\" class=\"dataframe\">\n",
       "  <thead>\n",
       "    <tr style=\"text-align: right;\">\n",
       "      <th></th>\n",
       "      <th>AreaIncome</th>\n",
       "      <th>Avg. Area House Age</th>\n",
       "      <th>AreaNumberofRooms</th>\n",
       "      <th>Avg. Area Number of Bedrooms</th>\n",
       "      <th>AreaPopulation</th>\n",
       "      <th>Price</th>\n",
       "      <th>Address</th>\n",
       "    </tr>\n",
       "  </thead>\n",
       "  <tbody>\n",
       "    <tr>\n",
       "      <th>0</th>\n",
       "      <td>79545.45857</td>\n",
       "      <td>5.682861</td>\n",
       "      <td>7.009188</td>\n",
       "      <td>4.09</td>\n",
       "      <td>23086.80050</td>\n",
       "      <td>1.059034e+06</td>\n",
       "      <td>208 Michael Ferry Apt. 674\\nLaurabury, NE 3701...</td>\n",
       "    </tr>\n",
       "    <tr>\n",
       "      <th>1</th>\n",
       "      <td>79248.64245</td>\n",
       "      <td>6.002900</td>\n",
       "      <td>6.730821</td>\n",
       "      <td>3.09</td>\n",
       "      <td>40173.07217</td>\n",
       "      <td>1.505891e+06</td>\n",
       "      <td>188 Johnson Views Suite 079\\nLake Kathleen, CA...</td>\n",
       "    </tr>\n",
       "    <tr>\n",
       "      <th>2</th>\n",
       "      <td>61287.06718</td>\n",
       "      <td>5.865890</td>\n",
       "      <td>8.512727</td>\n",
       "      <td>5.13</td>\n",
       "      <td>36882.15940</td>\n",
       "      <td>1.058988e+06</td>\n",
       "      <td>9127 Elizabeth Stravenue\\nDanieltown, WI 06482...</td>\n",
       "    </tr>\n",
       "    <tr>\n",
       "      <th>3</th>\n",
       "      <td>63345.24005</td>\n",
       "      <td>7.188236</td>\n",
       "      <td>5.586729</td>\n",
       "      <td>3.26</td>\n",
       "      <td>34310.24283</td>\n",
       "      <td>1.260617e+06</td>\n",
       "      <td>USS Barnett\\nFPO AP 44820</td>\n",
       "    </tr>\n",
       "    <tr>\n",
       "      <th>4</th>\n",
       "      <td>59982.19723</td>\n",
       "      <td>5.040555</td>\n",
       "      <td>7.839388</td>\n",
       "      <td>4.23</td>\n",
       "      <td>26354.10947</td>\n",
       "      <td>6.309435e+05</td>\n",
       "      <td>USNS Raymond\\nFPO AE 09386</td>\n",
       "    </tr>\n",
       "  </tbody>\n",
       "</table>\n",
       "</div>"
      ],
      "text/plain": [
       "    AreaIncome  Avg. Area House Age  AreaNumberofRooms  \\\n",
       "0  79545.45857             5.682861           7.009188   \n",
       "1  79248.64245             6.002900           6.730821   \n",
       "2  61287.06718             5.865890           8.512727   \n",
       "3  63345.24005             7.188236           5.586729   \n",
       "4  59982.19723             5.040555           7.839388   \n",
       "\n",
       "   Avg. Area Number of Bedrooms  AreaPopulation         Price  \\\n",
       "0                          4.09     23086.80050  1.059034e+06   \n",
       "1                          3.09     40173.07217  1.505891e+06   \n",
       "2                          5.13     36882.15940  1.058988e+06   \n",
       "3                          3.26     34310.24283  1.260617e+06   \n",
       "4                          4.23     26354.10947  6.309435e+05   \n",
       "\n",
       "                                             Address  \n",
       "0  208 Michael Ferry Apt. 674\\nLaurabury, NE 3701...  \n",
       "1  188 Johnson Views Suite 079\\nLake Kathleen, CA...  \n",
       "2  9127 Elizabeth Stravenue\\nDanieltown, WI 06482...  \n",
       "3                          USS Barnett\\nFPO AP 44820  \n",
       "4                         USNS Raymond\\nFPO AE 09386  "
      ]
     },
     "execution_count": 64,
     "metadata": {},
     "output_type": "execute_result"
    }
   ],
   "source": [
    "df.head()"
   ]
  },
  {
   "cell_type": "code",
   "execution_count": 67,
   "metadata": {},
   "outputs": [
    {
     "name": "stdout",
     "output_type": "stream",
     "text": [
      "<class 'pandas.core.frame.DataFrame'>\n",
      "RangeIndex: 5000 entries, 0 to 4999\n",
      "Data columns (total 6 columns):\n",
      " #   Column                        Non-Null Count  Dtype  \n",
      "---  ------                        --------------  -----  \n",
      " 0   AreaIncome                    5000 non-null   float64\n",
      " 1   Avg. Area House Age           5000 non-null   float64\n",
      " 2   AreaNumberofRooms             5000 non-null   float64\n",
      " 3   Avg. Area Number of Bedrooms  5000 non-null   float64\n",
      " 4   AreaPopulation                5000 non-null   float64\n",
      " 5   Price                         5000 non-null   float64\n",
      "dtypes: float64(6)\n",
      "memory usage: 234.5 KB\n"
     ]
    }
   ],
   "source": [
    "df.info()"
   ]
  },
  {
   "cell_type": "code",
   "execution_count": 65,
   "metadata": {},
   "outputs": [],
   "source": [
    "df.drop(df[['Address']],axis = 1, inplace = True)"
   ]
  },
  {
   "cell_type": "code",
   "execution_count": 66,
   "metadata": {},
   "outputs": [
    {
     "data": {
      "text/html": [
       "<div>\n",
       "<style scoped>\n",
       "    .dataframe tbody tr th:only-of-type {\n",
       "        vertical-align: middle;\n",
       "    }\n",
       "\n",
       "    .dataframe tbody tr th {\n",
       "        vertical-align: top;\n",
       "    }\n",
       "\n",
       "    .dataframe thead th {\n",
       "        text-align: right;\n",
       "    }\n",
       "</style>\n",
       "<table border=\"1\" class=\"dataframe\">\n",
       "  <thead>\n",
       "    <tr style=\"text-align: right;\">\n",
       "      <th></th>\n",
       "      <th>AreaIncome</th>\n",
       "      <th>Avg. Area House Age</th>\n",
       "      <th>AreaNumberofRooms</th>\n",
       "      <th>Avg. Area Number of Bedrooms</th>\n",
       "      <th>AreaPopulation</th>\n",
       "      <th>Price</th>\n",
       "    </tr>\n",
       "  </thead>\n",
       "  <tbody>\n",
       "    <tr>\n",
       "      <th>0</th>\n",
       "      <td>79545.45857</td>\n",
       "      <td>5.682861</td>\n",
       "      <td>7.009188</td>\n",
       "      <td>4.09</td>\n",
       "      <td>23086.80050</td>\n",
       "      <td>1.059034e+06</td>\n",
       "    </tr>\n",
       "    <tr>\n",
       "      <th>1</th>\n",
       "      <td>79248.64245</td>\n",
       "      <td>6.002900</td>\n",
       "      <td>6.730821</td>\n",
       "      <td>3.09</td>\n",
       "      <td>40173.07217</td>\n",
       "      <td>1.505891e+06</td>\n",
       "    </tr>\n",
       "    <tr>\n",
       "      <th>2</th>\n",
       "      <td>61287.06718</td>\n",
       "      <td>5.865890</td>\n",
       "      <td>8.512727</td>\n",
       "      <td>5.13</td>\n",
       "      <td>36882.15940</td>\n",
       "      <td>1.058988e+06</td>\n",
       "    </tr>\n",
       "    <tr>\n",
       "      <th>3</th>\n",
       "      <td>63345.24005</td>\n",
       "      <td>7.188236</td>\n",
       "      <td>5.586729</td>\n",
       "      <td>3.26</td>\n",
       "      <td>34310.24283</td>\n",
       "      <td>1.260617e+06</td>\n",
       "    </tr>\n",
       "    <tr>\n",
       "      <th>4</th>\n",
       "      <td>59982.19723</td>\n",
       "      <td>5.040555</td>\n",
       "      <td>7.839388</td>\n",
       "      <td>4.23</td>\n",
       "      <td>26354.10947</td>\n",
       "      <td>6.309435e+05</td>\n",
       "    </tr>\n",
       "  </tbody>\n",
       "</table>\n",
       "</div>"
      ],
      "text/plain": [
       "    AreaIncome  Avg. Area House Age  AreaNumberofRooms  \\\n",
       "0  79545.45857             5.682861           7.009188   \n",
       "1  79248.64245             6.002900           6.730821   \n",
       "2  61287.06718             5.865890           8.512727   \n",
       "3  63345.24005             7.188236           5.586729   \n",
       "4  59982.19723             5.040555           7.839388   \n",
       "\n",
       "   Avg. Area Number of Bedrooms  AreaPopulation         Price  \n",
       "0                          4.09     23086.80050  1.059034e+06  \n",
       "1                          3.09     40173.07217  1.505891e+06  \n",
       "2                          5.13     36882.15940  1.058988e+06  \n",
       "3                          3.26     34310.24283  1.260617e+06  \n",
       "4                          4.23     26354.10947  6.309435e+05  "
      ]
     },
     "execution_count": 66,
     "metadata": {},
     "output_type": "execute_result"
    }
   ],
   "source": [
    "df.head()"
   ]
  },
  {
   "cell_type": "markdown",
   "metadata": {},
   "source": [
    "# Build Loss Function"
   ]
  },
  {
   "cell_type": "code",
   "execution_count": 40,
   "metadata": {},
   "outputs": [],
   "source": [
    "def loss(x_train, y_train, c1, c2, c3, c4):\n",
    "    n = len(x_train)  # get the length of the training set.\n",
    "    y_predicted = c2 * x_train.iloc[:, 0] + c3 * x_train.iloc[:, 1] + c4 * x_train.iloc[:, 2] + c1  # calculate the prediction.\n",
    "    cost = (1 / n) * sum([val**2 for val in (y_train - y_predicted)])  # calculate the mean square error cost."
   ]
  },
  {
   "cell_type": "markdown",
   "metadata": {},
   "source": [
    "# Build gradient decent function \n",
    "- use equation : Y = 5X1 + 3X2 + 1.5X3 + 6"
   ]
  },
  {
   "cell_type": "code",
   "execution_count": 41,
   "metadata": {},
   "outputs": [],
   "source": [
    "def gradientDecent(x_train, y_train):\n",
    "    learn_rate = 0.001\n",
    "    n = len(x_train)\n",
    "    c1 = 6  \n",
    "    c2 = 5 \n",
    "    c3 = 3  \n",
    "    c4 = 1.5  \n",
    "    y_predicted = c2 * x_train.iloc[:, 0] + c3 * x_train.iloc[:, 1] + c4 * x_train.iloc[:, 2] + c1\n",
    "\n",
    "    # minimize the error with gradient decent\n",
    "    for i in range(150):\n",
    "        c1 = c1 - learn_rate * (-(2 / n) * sum(y_train - y_predicted))\n",
    "        c2 = c2 - learn_rate * (-(2 / n) * sum(x_train.iloc[:, 0] * (y_train - y_predicted)))\n",
    "        c3 = c3 - learn_rate * (-(2 / n) * sum(x_train.iloc[:, 1] * (y_train - y_predicted)))\n",
    "        c4 = c4 - learn_rate * (-(2 / n) * sum(x_train.iloc[:, 2] * (y_train - y_predicted)))\n",
    "        loss(x_train, y_train, c1, c2, c3, c4)\n",
    "    return c1, c2, c3, c4"
   ]
  },
  {
   "cell_type": "markdown",
   "metadata": {},
   "source": [
    "#  print the test wights"
   ]
  },
  {
   "cell_type": "code",
   "execution_count": 42,
   "metadata": {},
   "outputs": [],
   "source": [
    "def printWight(c1, c2, c3, c4):\n",
    "    y_predicted = c2 * x_test.iloc[:, 0] + c3 * x_test.iloc[:, 1] + c4 * x_test.iloc[:, 2] + c1\n",
    "    return y_predicted"
   ]
  },
  {
   "cell_type": "markdown",
   "metadata": {},
   "source": [
    "# Calculate accuracy\n"
   ]
  },
  {
   "cell_type": "code",
   "execution_count": 43,
   "metadata": {},
   "outputs": [],
   "source": [
    "def accuracy(test, predict):\n",
    "    right = 0  # record to the right prediction\n",
    "    for i in range(len(test)):  # loop throw the test label\n",
    "        if test.index[i] == predict.index[i]:  # if it is the right answer\n",
    "            right += 1  # increment by one\n",
    "    print(\"Accuracy of the model is : \", right / float(len(test)) * 100)"
   ]
  },
  {
   "cell_type": "markdown",
   "metadata": {},
   "source": [
    "# Split the dataset"
   ]
  },
  {
   "cell_type": "code",
   "execution_count": 48,
   "metadata": {},
   "outputs": [],
   "source": [
    "standard_x = StandardScaler()\n",
    "x_train = standard_x.fit_transform(df)\n",
    "x_test = standard_x.fit_transform(df) \n",
    "\n",
    "x_data = df[['AreaIncome', 'AreaNumberofRooms', 'AreaPopulation']]\n",
    "y_data = df['Price']"
   ]
  },
  {
   "cell_type": "markdown",
   "metadata": {},
   "source": [
    "#  train test split function.\n"
   ]
  },
  {
   "cell_type": "code",
   "execution_count": 50,
   "metadata": {},
   "outputs": [],
   "source": [
    "x_train, x_test, y_train, y_test = train_test_split(x_data, y_data, test_size=0.2)\n",
    "c1, c2, c3, c4 = gradientDecent(x_train, y_train)\n"
   ]
  },
  {
   "cell_type": "markdown",
   "metadata": {},
   "source": [
    "# Visulization and printing"
   ]
  },
  {
   "cell_type": "code",
   "execution_count": 52,
   "metadata": {},
   "outputs": [
    {
     "name": "stdout",
     "output_type": "stream",
     "text": [
      "4580    1.468457e+15\n",
      "4732    1.391102e+15\n",
      "1881    1.910023e+15\n",
      "1426    1.300781e+15\n",
      "3485    1.948991e+15\n",
      "            ...     \n",
      "2938    1.734047e+15\n",
      "3962    1.895530e+15\n",
      "1229    1.748000e+15\n",
      "2058    1.575941e+15\n",
      "185     1.531232e+15\n",
      "Length: 1000, dtype: float64\n",
      "Accuracy of the model is :  100.0\n"
     ]
    }
   ],
   "source": [
    "print(printWight(c1, c2, c3, c4))\n",
    "accuracy(y_test, printWight(c1, c2, c3, c4))"
   ]
  },
  {
   "cell_type": "code",
   "execution_count": 61,
   "metadata": {},
   "outputs": [
    {
     "data": {
      "image/png": "[encoded data removed]",
      "text/plain": [
       "<Figure size 640x480 with 1 Axes>"
      ]
     },
     "metadata": {},
     "output_type": "display_data"
    }
   ],
   "source": [
    "plt.scatter(y_test, printWight(c1, c2, c3, c4))\n",
    "plt.show()"
   ]
  },
  {
   "cell_type": "code",
   "execution_count": null,
   "metadata": {},
   "outputs": [],
   "source": []
  }
 ],
 "metadata": {
  "kernelspec": {
   "display_name": "Python 3 (ipykernel)",
   "language": "python",
   "name": "python3"
  },
  "language_info": {
   "codemirror_mode": {
    "name": "ipython",
    "version": 3
   },
   "file_extension": ".py",
   "mimetype": "text/x-python",
   "name": "python",
   "nbconvert_exporter": "python",
   "pygments_lexer": "ipython3",
   "version": "3.9.13"
  }
 },
 "nbformat": 4,
 "nbformat_minor": 4
}
